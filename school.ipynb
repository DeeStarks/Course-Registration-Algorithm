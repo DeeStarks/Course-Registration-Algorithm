{
 "cells": [
  {
   "cell_type": "code",
   "execution_count": 1,
   "metadata": {},
   "outputs": [],
   "source": [
    "def courses():\n",
    "    courses = {\n",
    "        \"Computer Science\": \"- Operating System,- Microprocessor,- Computer Software,- Cryptography and Network Security,- Database Management System\" ,\n",
    "        \"Civil Engineering\": \"- Road Design,- Drainage and Sewer Design,- Site Layouts,- Structural Engineering,- Geotechnical Engineering\" ,\n",
    "        \"Mechanical Engineering\": \"- Aerodynamics and Fluid Mechanics,- Biomechanics,- Combustion and Energy Sytems,- Materials and Structures,- Dynamics and Control\" ,\n",
    "        \"Psychology\": \"- Prejudice and Discrimination,- Social Cognition,- Person Perception,- Attitudes,- Social Control\",\n",
    "        \"Criminology\": \"- Antiquities Trafficking,- Art Theft,- Child Abduction,- Child Abuse,- Murder\"\n",
    "    }\n",
    "\n",
    "    return courses"
   ]
  },
  {
   "cell_type": "code",
   "execution_count": 7,
   "metadata": {},
   "outputs": [],
   "source": [
    "import os\n",
    "\n",
    "class School:\n",
    "    def __init__(self):\n",
    "        self.courses = courses()\n",
    "        self.uid = 102100\n",
    "        path = os.listdir('database/')\n",
    "        filename = [f.split('.')[0] for f in path]\n",
    "        self.db = filename[1:]\n",
    "    \n",
    "    def database(self):\n",
    "        return self.db\n",
    "    \n",
    "    def register(self):\n",
    "        name = input(\"Enter Full Name: \")\n",
    "        passkey = input(\"Create a Password (Must be at least 5 characters): \")\n",
    "\n",
    "        if len(passkey) >= 5:\n",
    "            print(f'Welcome {name.upper()}. Enter \"yes\" or \"no\" to the courses below to enroll and complete registration (Minimum of two courses are required).')\n",
    "            def course_confirm():\n",
    "                course01, course02, course03, course04, course05 = input(\"Computer Science: \"), input(\"Civil Engineering: \"), input(\"Mechanical Engineering: \"), input(\"Psychology: \"), input(\"Criminology: \")\n",
    "\n",
    "                cs, ce, me, ps, cr = None, None, None, None, None\n",
    "                course_count = 0\n",
    "\n",
    "                if course01.lower() == \"yes\":\n",
    "                    cs = True\n",
    "                    course_count += 1\n",
    "                if course02.lower() == \"yes\":\n",
    "                    ce = True\n",
    "                    course_count += 1\n",
    "                if course03.lower() == \"yes\":\n",
    "                    me = True\n",
    "                    course_count += 1\n",
    "                if course04.lower() == \"yes\":\n",
    "                    ps = True\n",
    "                    course_count += 1\n",
    "                if course05.lower() == \"yes\":\n",
    "                    cr = True\n",
    "                    course_count += 1\n",
    "\n",
    "                if course_count < 2:\n",
    "                    print('Please a minimum of two courses are required. Re-run and enter \"yes\" or \"no\" to complete registration')\n",
    "                    course_confirm()\n",
    "                else:\n",
    "                    courses = {}\n",
    "                    if cs:\n",
    "                        courses[\"Computer Science\"] = self.courses[\"Computer Science\"]\n",
    "                    if ce:\n",
    "                        courses[\"Civil Engineering\"] = self.courses[\"Civil Engineering\"]\n",
    "                    if me:\n",
    "                        courses[\"Mechanical Engineering\"] = self.courses[\"Mechanical Engineering\"]\n",
    "                    if ps:\n",
    "                        courses[\"Psychology\"] = self.courses[\"Psychology\"]\n",
    "                    if cr:\n",
    "                        courses[\"Criminology\"] = self.courses[\"Criminology\"]\n",
    "                        \n",
    "                    if str(self.uid) in self.db:\n",
    "                        self.uid = int(self.db[-1]) + 1\n",
    "                        with open(f'database/{self.uid}.txt', 'w') as db:\n",
    "                            db.write(f'{name}\\n{passkey}\\n{courses}')\n",
    "                    else:\n",
    "                        with open(f'database/{self.uid}.txt', 'w') as db:\n",
    "                            db.write(f'{name}\\n{passkey}\\n{courses}')\n",
    "\n",
    "                    print(f'Hello {name.upper()}, you have been Successfully Registered. Your Matric No. is {self.uid} (keep it safe).')\n",
    "\n",
    "                    self.uid += 1\n",
    "            course_confirm()\n",
    "        else:\n",
    "            print(\"Please, enter at least 5 characters.\")\n",
    "            self.register()\n",
    "    \n",
    "    def dashboard(self):\n",
    "        dash_mat = input(\"Enter your Matric Number: \")\n",
    "        try:\n",
    "            dash_mat = int(dash_mat)\n",
    "        except ValueError:\n",
    "            print(\"Please input only numbers\")\n",
    "            self.dashboard()\n",
    "\n",
    "        if str(dash_mat) not in self.db:\n",
    "            print(\"Invalid Matric Number\")\n",
    "            self.dashboard()\n",
    "        else:\n",
    "            for file in self.db:\n",
    "                if str(dash_mat) == file:\n",
    "                    with open(f'database/{file}.txt', 'r') as db:\n",
    "                        db_info = [i.split('\\n')[0] for i in db.readlines()]\n",
    "                        print(f'Are you {db_info[0].upper()}?. Enter your password to log in')\n",
    "                        confirm_pass = input(\"Enter Password: \")\n",
    "\n",
    "                        if confirm_pass == db_info[1]:\n",
    "                            print(f'Welcome back {db_info[0].upper()}')\n",
    "                            print(f'   MATRIC NUMBER: {dash_mat}')\n",
    "                            print(\"   Courses Offered:\")\n",
    "                            courses_offered = db_info[2].split(\", \")\n",
    "                            for i in courses_offered:\n",
    "                                concern_sep = i.split(\": \")\n",
    "                                outline_sep = concern_sep[1].split(',')\n",
    "                                print(\"        \" + concern_sep[0] + \":\")\n",
    "                                for j in outline_sep:\n",
    "                                    print(\"           \" + j)\n",
    "                        else:\n",
    "                            print(\"Incorrect Password\")\n",
    "                            self.dashboard()\n",
    "\n",
    "    \n",
    "schl = School()"
   ]
  },
  {
   "cell_type": "markdown",
   "metadata": {},
   "source": [
    "<center><h3>DISPLAY STUDENTS' DATABASE (ADMIN ONLY ACCESS)</h3></center>"
   ]
  },
  {
   "cell_type": "code",
   "execution_count": 3,
   "metadata": {},
   "outputs": [
    {
     "data": {
      "text/plain": [
       "['102100', 'init']"
      ]
     },
     "execution_count": 3,
     "metadata": {},
     "output_type": "execute_result"
    }
   ],
   "source": [
    "schl.database()"
   ]
  },
  {
   "cell_type": "markdown",
   "metadata": {},
   "source": [
    "<center><h3>STUDENTS ACCESS</h3></center>"
   ]
  },
  {
   "cell_type": "code",
   "execution_count": 8,
   "metadata": {},
   "outputs": [
    {
     "name": "stdin",
     "output_type": "stream",
     "text": [
      "Enter Full Name:  Mary Jane\n",
      "Create a Password (Must be at least 5 characters):  102100\n"
     ]
    },
    {
     "name": "stdout",
     "output_type": "stream",
     "text": [
      "Welcome MARY JANE. Enter \"yes\" or \"no\" to the courses below to enroll and complete registration (Minimum of two courses are required).\n"
     ]
    },
    {
     "name": "stdin",
     "output_type": "stream",
     "text": [
      "Computer Science:  yes\n",
      "Civil Engineering:  no\n",
      "Mechanical Engineering:  no\n",
      "Psychology:  no\n",
      "Criminology:  yes\n"
     ]
    },
    {
     "name": "stdout",
     "output_type": "stream",
     "text": [
      "Hello MARY JANE, you have been Successfully Registered. Your Matric No. is 102101 (keep it safe).\n"
     ]
    }
   ],
   "source": [
    "schl.register()"
   ]
  },
  {
   "cell_type": "code",
   "execution_count": 4,
   "metadata": {},
   "outputs": [
    {
     "name": "stdin",
     "output_type": "stream",
     "text": [
      "Enter your Matric Number:  102100\n"
     ]
    },
    {
     "name": "stdout",
     "output_type": "stream",
     "text": [
      "Are you JOHN DOE?. Enter your password to log in\n"
     ]
    },
    {
     "name": "stdin",
     "output_type": "stream",
     "text": [
      "Enter Password:  12345\n"
     ]
    },
    {
     "name": "stdout",
     "output_type": "stream",
     "text": [
      "Welcome back JOHN DOE\n",
      "   MATRIC NUMBER: 102100\n",
      "   Courses Offered:\n",
      "        {'Computer Science':\n",
      "           '- Operating System\n",
      "           - Microprocessor\n",
      "           - Computer Software\n",
      "           - Cryptography and Network Security\n",
      "           - Database Management System'\n",
      "        'Mechanical Engineering':\n",
      "           '- Aerodynamics and Fluid Mechanics\n",
      "           - Biomechanics\n",
      "           - Combustion and Energy Sytems\n",
      "           - Materials and Structures\n",
      "           - Dynamics and Control'\n",
      "        'Criminology':\n",
      "           '- Antiquities Trafficking\n",
      "           - Art Theft\n",
      "           - Child Abduction\n",
      "           - Child Abuse\n",
      "           - Murder'}\n"
     ]
    }
   ],
   "source": [
    "schl.dashboard()"
   ]
  },
  {
   "cell_type": "code",
   "execution_count": null,
   "metadata": {},
   "outputs": [],
   "source": []
  }
 ],
 "metadata": {
  "kernelspec": {
   "display_name": "Python 3",
   "language": "python",
   "name": "python3"
  },
  "language_info": {
   "codemirror_mode": {
    "name": "ipython",
    "version": 3
   },
   "file_extension": ".py",
   "mimetype": "text/x-python",
   "name": "python",
   "nbconvert_exporter": "python",
   "pygments_lexer": "ipython3",
   "version": "3.7.6"
  }
 },
 "nbformat": 4,
 "nbformat_minor": 4
}
